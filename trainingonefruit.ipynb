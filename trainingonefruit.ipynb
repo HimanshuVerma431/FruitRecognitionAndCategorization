{
  "nbformat": 4,
  "nbformat_minor": 0,
  "metadata": {
    "colab": {
      "name": "trainingonefruit.ipynb",
      "provenance": [],
      "collapsed_sections": []
    },
    "kernelspec": {
      "name": "python3",
      "display_name": "Python 3"
    }
  },
  "cells": [
    {
      "cell_type": "code",
      "metadata": {
        "id": "cLK_asgo1Y9n",
        "colab_type": "code",
        "outputId": "cdf46361-9197-4791-c5b2-968796241da1",
        "colab": {
          "base_uri": "https://localhost:8080/",
          "height": 122
        }
      },
      "source": [
        "from google.colab import drive\n",
        "drive.mount('/content/gdrive')\n"
      ],
      "execution_count": 0,
      "outputs": [
        {
          "output_type": "stream",
          "text": [
            "Go to this URL in a browser: https://accounts.google.com/o/oauth2/auth?client_id=947318989803-6bn6qk8qdgf4n4g3pfee6491hc0brc4i.apps.googleusercontent.com&redirect_uri=urn%3aietf%3awg%3aoauth%3a2.0%3aoob&response_type=code&scope=email%20https%3a%2f%2fwww.googleapis.com%2fauth%2fdocs.test%20https%3a%2f%2fwww.googleapis.com%2fauth%2fdrive%20https%3a%2f%2fwww.googleapis.com%2fauth%2fdrive.photos.readonly%20https%3a%2f%2fwww.googleapis.com%2fauth%2fpeopleapi.readonly\n",
            "\n",
            "Enter your authorization code:\n",
            "··········\n",
            "Mounted at /content/gdrive\n"
          ],
          "name": "stdout"
        }
      ]
    },
    {
      "cell_type": "code",
      "metadata": {
        "id": "TuErrz9w1lUM",
        "colab_type": "code",
        "colab": {}
      },
      "source": [
        "import os\n",
        "os.chdir('gdrive/My Drive/fruit/')"
      ],
      "execution_count": 0,
      "outputs": []
    },
    {
      "cell_type": "code",
      "metadata": {
        "id": "w3hhfe0T2XKC",
        "colab_type": "code",
        "colab": {}
      },
      "source": [
        "import tensorflow as tf\n",
        "from tensorflow.keras.models import Sequential\n",
        "from tensorflow.keras.layers import Dense, Dropout, Activation, Flatten\n",
        "from tensorflow.keras.layers import Conv2D, MaxPooling2D\n",
        "\n",
        "import pickle\n",
        "\n",
        "pickle_in = open(\"XX.pickle\",\"rb\")\n",
        "X = pickle.load(pickle_in)\n",
        "\n",
        "pickle_in = open(\"yy.pickle\",\"rb\")\n",
        "y = pickle.load(pickle_in)\n"
      ],
      "execution_count": 0,
      "outputs": []
    },
    {
      "cell_type": "code",
      "metadata": {
        "id": "SjMrjMSC2dUk",
        "colab_type": "code",
        "outputId": "c930add5-7cb7-4a6f-87b6-ecf17ef90d6e",
        "colab": {
          "base_uri": "https://localhost:8080/",
          "height": 34
        }
      },
      "source": [
        "print(len(X)+len(y))"
      ],
      "execution_count": 0,
      "outputs": [
        {
          "output_type": "stream",
          "text": [
            "7610\n"
          ],
          "name": "stdout"
        }
      ]
    },
    {
      "cell_type": "code",
      "metadata": {
        "id": "KS38zXGM2ho5",
        "colab_type": "code",
        "colab": {}
      },
      "source": [
        "X = X/255.0"
      ],
      "execution_count": 0,
      "outputs": []
    },
    {
      "cell_type": "code",
      "metadata": {
        "id": "7pSWoP4G2nZS",
        "colab_type": "code",
        "outputId": "1264a780-0537-400e-971e-b668b1b67648",
        "colab": {
          "base_uri": "https://localhost:8080/",
          "height": 850
        }
      },
      "source": [
        "print(X[0])"
      ],
      "execution_count": 0,
      "outputs": [
        {
          "output_type": "stream",
          "text": [
            "[[[1.        ]\n",
            "  [1.        ]\n",
            "  [1.        ]\n",
            "  ...\n",
            "  [0.99607843]\n",
            "  [0.99607843]\n",
            "  [0.99607843]]\n",
            "\n",
            " [[1.        ]\n",
            "  [1.        ]\n",
            "  [1.        ]\n",
            "  ...\n",
            "  [0.99607843]\n",
            "  [0.99607843]\n",
            "  [0.99607843]]\n",
            "\n",
            " [[1.        ]\n",
            "  [1.        ]\n",
            "  [1.        ]\n",
            "  ...\n",
            "  [0.99607843]\n",
            "  [0.99607843]\n",
            "  [0.99607843]]\n",
            "\n",
            " ...\n",
            "\n",
            " [[1.        ]\n",
            "  [1.        ]\n",
            "  [1.        ]\n",
            "  ...\n",
            "  [1.        ]\n",
            "  [1.        ]\n",
            "  [1.        ]]\n",
            "\n",
            " [[1.        ]\n",
            "  [1.        ]\n",
            "  [1.        ]\n",
            "  ...\n",
            "  [1.        ]\n",
            "  [1.        ]\n",
            "  [1.        ]]\n",
            "\n",
            " [[1.        ]\n",
            "  [1.        ]\n",
            "  [1.        ]\n",
            "  ...\n",
            "  [1.        ]\n",
            "  [1.        ]\n",
            "  [1.        ]]]\n"
          ],
          "name": "stdout"
        }
      ]
    },
    {
      "cell_type": "code",
      "metadata": {
        "id": "bH8gOkM62pXZ",
        "colab_type": "code",
        "outputId": "78aeaad2-4791-4db0-c8a0-399a1b614076",
        "colab": {
          "base_uri": "https://localhost:8080/",
          "height": 343
        }
      },
      "source": [
        "model = Sequential()\n",
        "\n",
        "model.add(Conv2D(32, (3, 3), input_shape=X.shape[1:]))\n",
        "model.add(Activation('relu'))\n",
        "model.add(MaxPooling2D(pool_size=(2, 2)))\n",
        "\n",
        "model.add(Conv2D(64, (3, 3)))\n",
        "model.add(Activation('relu'))\n",
        "model.add(MaxPooling2D(pool_size=(2, 2)))\n",
        "model.add(Dropout(0.25))\n",
        "\n",
        "model.add(Conv2D(128, (3, 3)))\n",
        "model.add(Activation('relu'))\n",
        "model.add(MaxPooling2D(pool_size=(2, 2)))\n",
        "model.add(Dropout(0.25))\n",
        "\n",
        "\n",
        "model.add(Flatten())  \n",
        "\n",
        "model.add(Dense(128))\n",
        "model.add(Dropout(0.25))\n",
        "\n",
        "model.add(Dense(1))\n",
        "model.add(Activation('sigmoid'))\n",
        "\n",
        "model.compile(loss='binary_crossentropy',\n",
        "              optimizer='adam',\n",
        "              metrics=['accuracy'])\n",
        "\n",
        "model.fit(X, y, batch_size=32, epochs=5, validation_split=0.3)"
      ],
      "execution_count": 0,
      "outputs": [
        {
          "output_type": "stream",
          "text": [
            "WARNING:tensorflow:From /usr/local/lib/python3.6/dist-packages/tensorflow_core/python/ops/resource_variable_ops.py:1630: calling BaseResourceVariable.__init__ (from tensorflow.python.ops.resource_variable_ops) with constraint is deprecated and will be removed in a future version.\n",
            "Instructions for updating:\n",
            "If using Keras pass *_constraint arguments to layers.\n",
            "WARNING:tensorflow:From /usr/local/lib/python3.6/dist-packages/tensorflow_core/python/ops/nn_impl.py:183: where (from tensorflow.python.ops.array_ops) is deprecated and will be removed in a future version.\n",
            "Instructions for updating:\n",
            "Use tf.where in 2.0, which has the same broadcast rule as np.where\n",
            "Train on 2663 samples, validate on 1142 samples\n",
            "Epoch 1/5\n",
            "2663/2663 [==============================] - 10s 4ms/sample - loss: 0.2026 - acc: 0.9129 - val_loss: 0.1215 - val_acc: 0.9632\n",
            "Epoch 2/5\n",
            "2663/2663 [==============================] - 9s 3ms/sample - loss: 0.0924 - acc: 0.9658 - val_loss: 0.0972 - val_acc: 0.9702\n",
            "Epoch 3/5\n",
            "2663/2663 [==============================] - 9s 3ms/sample - loss: 0.0783 - acc: 0.9737 - val_loss: 0.0660 - val_acc: 0.9764\n",
            "Epoch 4/5\n",
            "2663/2663 [==============================] - 9s 3ms/sample - loss: 0.0827 - acc: 0.9692 - val_loss: 0.0501 - val_acc: 0.9825\n",
            "Epoch 5/5\n",
            "2663/2663 [==============================] - 9s 4ms/sample - loss: 0.0510 - acc: 0.9816 - val_loss: 0.0460 - val_acc: 0.9851\n"
          ],
          "name": "stdout"
        },
        {
          "output_type": "execute_result",
          "data": {
            "text/plain": [
              "<tensorflow.python.keras.callbacks.History at 0x7f8c60193320>"
            ]
          },
          "metadata": {
            "tags": []
          },
          "execution_count": 10
        }
      ]
    },
    {
      "cell_type": "code",
      "metadata": {
        "id": "kfiMhZzh4CLd",
        "colab_type": "code",
        "colab": {}
      },
      "source": [
        "model.save('onefruit-cnn.model')"
      ],
      "execution_count": 0,
      "outputs": []
    },
    {
      "cell_type": "code",
      "metadata": {
        "id": "AOnaKn3_4Y0b",
        "colab_type": "code",
        "colab": {}
      },
      "source": [
        ""
      ],
      "execution_count": 0,
      "outputs": []
    }
  ]
}